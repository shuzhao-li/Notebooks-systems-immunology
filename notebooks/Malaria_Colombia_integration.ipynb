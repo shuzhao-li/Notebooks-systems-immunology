{
 "cells": [
  {
   "cell_type": "markdown",
   "metadata": {},
   "source": [
    "# Integration of metabolomics/transcriptomics on Colombia P. Vivax infection data\n",
    "\n",
    "This is the integration code for\n",
    "\n",
    "Gardinassi L, Arévalo-Herrera M, Herrera S, Cordy RJ, Tran V, Smith MR, Johnson MS, Chako B, Darley-Usmar VM, Liu K, Go Y, Jones DP, Galinski M, Li S.  (2018) Integrative metabolomics and transcriptomics signatures of clinical tolerance to Plasmodium vivax reveal activation of innate cell  immunity and T cell signaling. Redox Biology. 17:158-170. DOI: 10.1016/j.redox.2018.04.011 PMID: 29698924\n",
    "\n",
    "https://www.sciencedirect.com/science/article/pii/S2213231718302556\n",
    "\n",
    "Refactored from MMRN in Li et al. 2017. \n",
    "* Using regular hierachical clustering for BTMs\n",
    "* New weighted distance matrix for metabolomics data, then hierachical clustering\n",
    "* Manual selection of clusters cutoff here. May automate later\n"
   ]
  },
  {
   "cell_type": "code",
   "execution_count": 46,
   "metadata": {
    "collapsed": false
   },
   "outputs": [
    {
     "name": "stdout",
     "output_type": "stream",
     "text": [
      "('~~~', 'HILIC_pos_diag_basel.txt', '~~~')\n",
      "['mz_rt', 'N1', 'N2', 'N3', 'N4', 'N5', 'N6', 'SI1', 'SI2', 'SI3', 'SI4', 'SI5', 'SI6']\n",
      "('~~~', 'HILIC_pos_baseline.txt', '~~~')\n",
      "['mz', 'time', 'N1', 'N2', 'N3', 'N4', 'N5', 'N6', 'SI1', 'SI2', 'SI3', 'SI4', 'SI5', 'SI6']\n",
      "('~~~', 'colombia_BTMactivity_basel.txt', '~~~')\n",
      "['BTM', 'N1', 'N2', 'N3', 'N4', 'N5', 'N6', 'SI1', 'SI2', 'SI3', 'SI4', 'SI5', 'SI6']\n",
      "('~~~', 'formatted_BTMs_diag_basel.txt', '~~~')\n",
      "['BTM', 'N1', 'N2', 'N3', 'N4', 'N5', 'N6', 'SI1', 'SI2', 'SI3', 'SI4', 'SI5', 'SI6']\n"
     ]
    }
   ],
   "source": [
    "import os\n",
    "DataDir = 'input_data/'\n",
    "\n",
    "# inspect data\n",
    "for f in os.listdir(DataDir):\n",
    "    print(\"~~~\", f, \"~~~\")\n",
    "    print (open(DataDir+f).read().splitlines()[0].split(\"\\t\"))\n",
    "    "
   ]
  },
  {
   "cell_type": "code",
   "execution_count": 47,
   "metadata": {
    "collapsed": false
   },
   "outputs": [
    {
     "data": {
      "text/html": [
       "<div>\n",
       "<table border=\"1\" class=\"dataframe\">\n",
       "  <thead>\n",
       "    <tr style=\"text-align: right;\">\n",
       "      <th></th>\n",
       "      <th>BTM</th>\n",
       "      <th>N1</th>\n",
       "      <th>N2</th>\n",
       "      <th>N3</th>\n",
       "      <th>N4</th>\n",
       "      <th>N5</th>\n",
       "      <th>N6</th>\n",
       "      <th>SI1</th>\n",
       "      <th>SI2</th>\n",
       "      <th>SI3</th>\n",
       "      <th>SI4</th>\n",
       "      <th>SI5</th>\n",
       "      <th>SI6</th>\n",
       "    </tr>\n",
       "  </thead>\n",
       "  <tbody>\n",
       "    <tr>\n",
       "      <th>0</th>\n",
       "      <td>integrin cell surface interactions (I) (M1.0)</td>\n",
       "      <td>-0.177</td>\n",
       "      <td>0.804</td>\n",
       "      <td>1.866</td>\n",
       "      <td>-1.473</td>\n",
       "      <td>-0.389</td>\n",
       "      <td>1.700</td>\n",
       "      <td>-0.920</td>\n",
       "      <td>0.187</td>\n",
       "      <td>0.540</td>\n",
       "      <td>0.874</td>\n",
       "      <td>-0.240</td>\n",
       "      <td>0.131</td>\n",
       "    </tr>\n",
       "    <tr>\n",
       "      <th>1</th>\n",
       "      <td>extracellular matrix (I) (M2.0)</td>\n",
       "      <td>-1.286</td>\n",
       "      <td>-0.549</td>\n",
       "      <td>-0.840</td>\n",
       "      <td>-1.526</td>\n",
       "      <td>-0.320</td>\n",
       "      <td>0.196</td>\n",
       "      <td>-0.242</td>\n",
       "      <td>0.223</td>\n",
       "      <td>0.654</td>\n",
       "      <td>0.321</td>\n",
       "      <td>-0.071</td>\n",
       "      <td>-0.441</td>\n",
       "    </tr>\n",
       "    <tr>\n",
       "      <th>2</th>\n",
       "      <td>extracellular matrix (II) (M2.1)</td>\n",
       "      <td>-0.285</td>\n",
       "      <td>-0.118</td>\n",
       "      <td>0.186</td>\n",
       "      <td>-0.154</td>\n",
       "      <td>0.140</td>\n",
       "      <td>0.158</td>\n",
       "      <td>-0.507</td>\n",
       "      <td>0.277</td>\n",
       "      <td>0.627</td>\n",
       "      <td>0.382</td>\n",
       "      <td>0.030</td>\n",
       "      <td>0.075</td>\n",
       "    </tr>\n",
       "    <tr>\n",
       "      <th>3</th>\n",
       "      <td>extracellular matrix (III) (M2.2)</td>\n",
       "      <td>-1.286</td>\n",
       "      <td>-0.549</td>\n",
       "      <td>-0.840</td>\n",
       "      <td>-1.526</td>\n",
       "      <td>-0.320</td>\n",
       "      <td>0.196</td>\n",
       "      <td>-0.242</td>\n",
       "      <td>0.223</td>\n",
       "      <td>0.654</td>\n",
       "      <td>0.321</td>\n",
       "      <td>-0.071</td>\n",
       "      <td>-0.441</td>\n",
       "    </tr>\n",
       "    <tr>\n",
       "      <th>4</th>\n",
       "      <td>regulation of signal transduction (M3)</td>\n",
       "      <td>-0.720</td>\n",
       "      <td>-0.381</td>\n",
       "      <td>0.097</td>\n",
       "      <td>-0.330</td>\n",
       "      <td>0.123</td>\n",
       "      <td>-0.341</td>\n",
       "      <td>-0.525</td>\n",
       "      <td>0.316</td>\n",
       "      <td>0.155</td>\n",
       "      <td>0.140</td>\n",
       "      <td>-0.126</td>\n",
       "      <td>-0.365</td>\n",
       "    </tr>\n",
       "  </tbody>\n",
       "</table>\n",
       "</div>"
      ],
      "text/plain": [
       "                                             BTM     N1     N2     N3     N4  \\\n",
       "0  integrin cell surface interactions (I) (M1.0) -0.177  0.804  1.866 -1.473   \n",
       "1                extracellular matrix (I) (M2.0) -1.286 -0.549 -0.840 -1.526   \n",
       "2               extracellular matrix (II) (M2.1) -0.285 -0.118  0.186 -0.154   \n",
       "3              extracellular matrix (III) (M2.2) -1.286 -0.549 -0.840 -1.526   \n",
       "4         regulation of signal transduction (M3) -0.720 -0.381  0.097 -0.330   \n",
       "\n",
       "      N5     N6    SI1    SI2    SI3    SI4    SI5    SI6  \n",
       "0 -0.389  1.700 -0.920  0.187  0.540  0.874 -0.240  0.131  \n",
       "1 -0.320  0.196 -0.242  0.223  0.654  0.321 -0.071 -0.441  \n",
       "2  0.140  0.158 -0.507  0.277  0.627  0.382  0.030  0.075  \n",
       "3 -0.320  0.196 -0.242  0.223  0.654  0.321 -0.071 -0.441  \n",
       "4  0.123 -0.341 -0.525  0.316  0.155  0.140 -0.126 -0.365  "
      ]
     },
     "execution_count": 47,
     "metadata": {},
     "output_type": "execute_result"
    }
   ],
   "source": [
    "import pandas as pd\n",
    "import numpy as np\n",
    "from scipy import stats\n",
    "import matplotlib.pyplot as plt\n",
    "\n",
    "%matplotlib inline\n",
    "\n",
    "# Start with data at diagnosis/baseline\n",
    "btm = pd.read_table(DataDir + 'formatted_BTMs_diag_basel.txt')\n",
    "btm.head()"
   ]
  },
  {
   "cell_type": "code",
   "execution_count": 48,
   "metadata": {
    "collapsed": false
   },
   "outputs": [
    {
     "name": "stdout",
     "output_type": "stream",
     "text": [
      "((281, 13), (39340,))\n"
     ]
    },
    {
     "data": {
      "image/png": "[encoded data removed]",
      "text/plain": [
       "<matplotlib.figure.Figure at 0x7f76902ad950>"
      ]
     },
     "metadata": {},
     "output_type": "display_data"
    }
   ],
   "source": [
    "# Scipy implementation of hierarchical clustering is mirroring Matlab\n",
    "# https://docs.scipy.org/doc/scipy/reference/cluster.hierarchy.html\n",
    "# https://www.mathworks.com/help/stats/hierarchical-clustering.html\n",
    "\n",
    "from scipy.cluster.hierarchy import *\n",
    "from scipy.spatial.distance import pdist\n",
    "\n",
    "# distance matrix\n",
    "Y = pdist(btm.values[:, 1:], 'correlation')\n",
    "print(btm.shape, Y.shape)\n",
    "\n",
    "# linkage matrix\n",
    "Z = linkage(Y, method='ward')\n",
    "\n",
    "plt.figure(figsize=(10, 6))\n",
    "plt.title('HCL BTM diag/baseline')\n",
    "plt.ylabel('Distance')\n",
    "dendrogram(Z)\n",
    "plt.show()\n"
   ]
  },
  {
   "cell_type": "code",
   "execution_count": 49,
   "metadata": {
    "collapsed": false
   },
   "outputs": [
    {
     "name": "stdout",
     "output_type": "stream",
     "text": [
      "[ 8 20  9 20 20 20  6  4 20  3  7  6  2  6  2 17 14 20 11  3  3  3  3  7  1\n",
      " 18  2  6 20 17 17  2 18  1  6 17  1  2 23 12  7  4 23 18 17 23  7  7 26  8\n",
      " 26 24 24 24 24 24 24 24 24  3 20  8 23  3 19 17 17 17  3 23 13 10 11 26 18\n",
      " 13  7 18 22 22 22 22 22 20 20 25  9 24 17 22 20 26 23 22 18  1  3  3  4 24\n",
      " 26  2 20 18 18 22  9 26 14 11 11 11 26  1 18  6  2 20 17 12  8 22 14  8 26\n",
      " 18 17 17 19 23 23 13 25 24 26 11 11 22 24 11  1  3  8 17  5  5 13  4 18 18\n",
      " 17  8 17 11 17  9  1 17 17 18 24 11  4  8  9  2 18 13 11  7 17 17  4 21 26\n",
      " 11 13 20 20 18  5 11  8  8 22  5 11 18  3 18 18 18 11  8 21 21  3  8 26 17\n",
      "  4 21 18 15 17  7 15 15 12 10 10 12 12 11  7  6 13  9 11  9  4  9  5 26 15\n",
      " 13  8 21  8 25 16 22  7  7  5  5 20 19  5  7 11 11 26  4 11  4  3 25  3 10\n",
      "  4  7  5  3  5 23  4 10 11  3 16 11 24  4 14 24 11  4  2  7 22 17 17 17 16\n",
      "  2 16 21 17 17 23]\n",
      "('number of features: ', 281)\n",
      "('number of clusters: ', 26)\n",
      "[(1, [24, 33, 36, 95, 113, 140, 156]), (2, [12, 14, 26, 31, 37, 101, 116, 165, 268, 275]), (3, [9, 19, 20, 21, 22, 59, 63, 68, 96, 97, 141, 188, 196, 246, 248, 253, 259])]\n"
     ]
    }
   ],
   "source": [
    "# based on the figure above, cut the tree at 1\n",
    "btmClus = fcluster(Z, 1, criterion='distance')\n",
    "\n",
    "print(btmClus)    # This is cluster number for each row in btm\n",
    "\n",
    "number_features, number_clusters = len(btmClus), len(set(list(btmClus)))\n",
    "print(\"number of features: \", number_features)\n",
    "print(\"number of clusters: \", number_clusters)\n",
    "\n",
    "# Compile clusters\n",
    "btmClusDict = {}\n",
    "for ii in range(number_features):\n",
    "    if btmClusDict.has_key(btmClus[ii]):\n",
    "        btmClusDict[ btmClus[ii] ].append(ii)\n",
    "    else:\n",
    "        btmClusDict[ btmClus[ii] ] = [ii]\n",
    "        \n",
    "print(btmClusDict.items()[:3])    # This organizes cluster, members\n"
   ]
  },
  {
   "cell_type": "code",
   "execution_count": 50,
   "metadata": {
    "collapsed": false
   },
   "outputs": [
    {
     "data": {
      "text/html": [
       "<div>\n",
       "<table border=\"1\" class=\"dataframe\">\n",
       "  <thead>\n",
       "    <tr style=\"text-align: right;\">\n",
       "      <th></th>\n",
       "      <th>mz_rt</th>\n",
       "      <th>N1</th>\n",
       "      <th>N2</th>\n",
       "      <th>N3</th>\n",
       "      <th>N4</th>\n",
       "      <th>N5</th>\n",
       "      <th>N6</th>\n",
       "      <th>SI1</th>\n",
       "      <th>SI2</th>\n",
       "      <th>SI3</th>\n",
       "      <th>SI4</th>\n",
       "      <th>SI5</th>\n",
       "      <th>SI6</th>\n",
       "    </tr>\n",
       "  </thead>\n",
       "  <tbody>\n",
       "    <tr>\n",
       "      <th>0</th>\n",
       "      <td>85.02865196_275.3154044</td>\n",
       "      <td>-0.741169</td>\n",
       "      <td>-1.394805</td>\n",
       "      <td>-0.620273</td>\n",
       "      <td>0.857773</td>\n",
       "      <td>-1.613470</td>\n",
       "      <td>-0.264445</td>\n",
       "      <td>-1.909026</td>\n",
       "      <td>-0.187610</td>\n",
       "      <td>1.388254</td>\n",
       "      <td>0.878922</td>\n",
       "      <td>-0.934093</td>\n",
       "      <td>2.638685</td>\n",
       "    </tr>\n",
       "    <tr>\n",
       "      <th>1</th>\n",
       "      <td>85.02868748_114.3203084</td>\n",
       "      <td>-2.711312</td>\n",
       "      <td>1.161496</td>\n",
       "      <td>5.581955</td>\n",
       "      <td>-0.188379</td>\n",
       "      <td>-0.081080</td>\n",
       "      <td>0.621589</td>\n",
       "      <td>-0.875584</td>\n",
       "      <td>-0.542016</td>\n",
       "      <td>0.730462</td>\n",
       "      <td>1.173231</td>\n",
       "      <td>0.587078</td>\n",
       "      <td>7.605417</td>\n",
       "    </tr>\n",
       "    <tr>\n",
       "      <th>2</th>\n",
       "      <td>85.04799534_127.0756394</td>\n",
       "      <td>-0.059953</td>\n",
       "      <td>-5.980863</td>\n",
       "      <td>-0.026952</td>\n",
       "      <td>0.000000</td>\n",
       "      <td>-21.934977</td>\n",
       "      <td>-0.461426</td>\n",
       "      <td>-1.451391</td>\n",
       "      <td>-0.965788</td>\n",
       "      <td>0.979416</td>\n",
       "      <td>0.767319</td>\n",
       "      <td>-0.773038</td>\n",
       "      <td>-21.085978</td>\n",
       "    </tr>\n",
       "    <tr>\n",
       "      <th>3</th>\n",
       "      <td>85.06507359_261.7958538</td>\n",
       "      <td>-0.589275</td>\n",
       "      <td>-0.497958</td>\n",
       "      <td>0.441288</td>\n",
       "      <td>-1.408106</td>\n",
       "      <td>0.203421</td>\n",
       "      <td>-1.705279</td>\n",
       "      <td>-0.614097</td>\n",
       "      <td>-1.570598</td>\n",
       "      <td>0.656213</td>\n",
       "      <td>0.304973</td>\n",
       "      <td>0.163556</td>\n",
       "      <td>0.462155</td>\n",
       "    </tr>\n",
       "    <tr>\n",
       "      <th>4</th>\n",
       "      <td>85.07627944_160.8882793</td>\n",
       "      <td>-0.348159</td>\n",
       "      <td>-0.509134</td>\n",
       "      <td>-0.330221</td>\n",
       "      <td>0.701595</td>\n",
       "      <td>0.679800</td>\n",
       "      <td>-2.164348</td>\n",
       "      <td>-0.705403</td>\n",
       "      <td>-1.027574</td>\n",
       "      <td>1.476842</td>\n",
       "      <td>0.516237</td>\n",
       "      <td>-0.505817</td>\n",
       "      <td>1.322065</td>\n",
       "    </tr>\n",
       "  </tbody>\n",
       "</table>\n",
       "</div>"
      ],
      "text/plain": [
       "                     mz_rt        N1        N2        N3        N4         N5  \\\n",
       "0  85.02865196_275.3154044 -0.741169 -1.394805 -0.620273  0.857773  -1.613470   \n",
       "1  85.02868748_114.3203084 -2.711312  1.161496  5.581955 -0.188379  -0.081080   \n",
       "2  85.04799534_127.0756394 -0.059953 -5.980863 -0.026952  0.000000 -21.934977   \n",
       "3  85.06507359_261.7958538 -0.589275 -0.497958  0.441288 -1.408106   0.203421   \n",
       "4  85.07627944_160.8882793 -0.348159 -0.509134 -0.330221  0.701595   0.679800   \n",
       "\n",
       "         N6       SI1       SI2       SI3       SI4       SI5        SI6  \n",
       "0 -0.264445 -1.909026 -0.187610  1.388254  0.878922 -0.934093   2.638685  \n",
       "1  0.621589 -0.875584 -0.542016  0.730462  1.173231  0.587078   7.605417  \n",
       "2 -0.461426 -1.451391 -0.965788  0.979416  0.767319 -0.773038 -21.085978  \n",
       "3 -1.705279 -0.614097 -1.570598  0.656213  0.304973  0.163556   0.462155  \n",
       "4 -2.164348 -0.705403 -1.027574  1.476842  0.516237 -0.505817   1.322065  "
      ]
     },
     "execution_count": 50,
     "metadata": {},
     "output_type": "execute_result"
    }
   ],
   "source": [
    "# do metabolomics data\n",
    "metabo = pd.read_table(DataDir + 'HILIC_pos_diag_basel.txt')\n",
    "metabo.head()"
   ]
  },
  {
   "cell_type": "code",
   "execution_count": 104,
   "metadata": {
    "collapsed": false
   },
   "outputs": [
    {
     "name": "stdout",
     "output_type": "stream",
     "text": [
      "((4236, 13), (8969730,))\n",
      "('min_retention_time, max_retention_time', 21.02259976, 284.4340804)\n",
      "('Vector delta_RT len: ', 8969730)\n",
      "[ 0.52742797 -0.11448036  0.22389849  0.58368643  0.61589023]\n",
      "[160.995096, 148.23976499999998, 13.519550600000002, 114.42712509999998, 109.11720049999997]\n",
      "[ 0.205068   -0.05005438  0.21240694  0.33013043  0.36076005]\n"
     ]
    }
   ],
   "source": [
    "# Clustering of metabolite features\n",
    "# distance matrix, this is [1 - (Pearson R)]\n",
    "YM = pdist(metabo.values[:, 1:], 'correlation')\n",
    "print(metabo.shape, YM.shape)\n",
    "\n",
    "#\n",
    "# New method, weighting delta retention time into new distance matrix\n",
    "#\n",
    "\n",
    "retention_time = [float(x.split(\"_\")[1]) for x in metabo.values[:,0]]\n",
    "min_retention_time, max_retention_time = min(retention_time), max(retention_time)\n",
    "range_retention_time = max_retention_time - min_retention_time\n",
    "print(\"min_retention_time, max_retention_time\", min_retention_time, max_retention_time)\n",
    "\n",
    "'''\n",
    "sanity_check = []    # delta_RT has to be the same order as in YM!\n",
    "for ii in range(10):\n",
    "    for jj in range(ii+1, 10):\n",
    "        sanity_check.append( stats.pearsonr(metabo.values[ii, 1:], metabo.values[jj, 1:])[0] )\n",
    "\n",
    "print(sanity_check[:20])\n",
    "'''\n",
    "\n",
    "PearsonR = 1 - YM\n",
    "#print(PearsonR[:20])\n",
    "\n",
    "delta_RT = []\n",
    "for ii in range(metabo.shape[0]):\n",
    "    for jj in range(ii+1, metabo.shape[0]):\n",
    "        delta_RT.append(abs(retention_time[ii] - retention_time[jj]))        \n",
    "\n",
    "print(\"Vector delta_RT len: \", len(delta_RT))\n",
    "\n",
    "#\n",
    "# weighting function\n",
    "# distance = 1 - (1 - delta_RT/range_retention_time)*PearsonR\n",
    "#\n",
    "\n",
    "YM_new = 1 - (1- np.array(delta_RT)/range_retention_time)*PearsonR\n",
    "\n",
    "print(PearsonR[:5])\n",
    "print(delta_RT[:5])\n",
    "print((1-YM_new)[:5])\n",
    "\n",
    "# redo something for retrieving :( This will need cleanup\n",
    "ZM_redo = linkage(YM_new, method='ward')\n",
    "metClus_redo = fcluster(ZM_redo, 2, criterion='distance')\n"
   ]
  },
  {
   "cell_type": "code",
   "execution_count": 52,
   "metadata": {
    "collapsed": false
   },
   "outputs": [
    {
     "data": {
      "image/png": "[encoded data removed]",
      "text/plain": [
       "<matplotlib.figure.Figure at 0x7f769064f0d0>"
      ]
     },
     "metadata": {},
     "output_type": "display_data"
    }
   ],
   "source": [
    "# Metabolite features linkage matrix using new distance matrix\n",
    "ZM = linkage(YM_new, method='ward')\n",
    "\n",
    "plt.figure(figsize=(10, 6))\n",
    "plt.title('HCL HILICpos Metabo diag/baseline')\n",
    "plt.ylabel('Distance')\n",
    "dendrogram(ZM)\n",
    "plt.show()"
   ]
  },
  {
   "cell_type": "code",
   "execution_count": 53,
   "metadata": {
    "collapsed": false
   },
   "outputs": [
    {
     "name": "stdout",
     "output_type": "stream",
     "text": [
      "[ 24  26  65  37 104   1  24  41  40   6]\n",
      "('number of features: ', 4236)\n",
      "('number of clusters: ', 111)\n",
      "[(1, [5, 85, 88, 89, 126, 242, 306, 389, 469, 483, 517, 529, 583, 605, 632, 682, 692, 711, 724, 778, 780, 782, 834, 874, 896, 917, 975, 1104, 1215, 1340, 1458, 1473, 1600, 1781, 1837, 2312, 2757, 3061, 3115, 3367]), (2, [319, 322, 372, 401, 451, 506, 738, 1527, 1767, 1799, 1808, 1830, 1891, 1892, 1894, 1931, 1948, 2258, 2307, 2558, 2798, 2843, 2930, 2969, 2974, 3045, 3094, 3427, 3522, 3545, 3556, 3576, 3618, 3624, 3671, 3706, 4022, 4025, 4057]), (3, [11, 21, 62, 74, 81, 91, 165, 186, 188, 202, 205, 235, 276, 279, 321, 335, 336, 348, 349, 373, 381, 466, 495, 508, 514, 532, 533, 619, 648, 662, 672, 677, 679, 687, 701, 761, 779, 813, 828, 839, 845, 851, 866, 875, 886, 899, 936, 960, 980, 989, 995, 1051, 1069, 1076, 1103, 1166, 1188, 1211, 1221, 1228, 1259, 1284, 1285, 1290, 1295, 1305, 1314, 1333, 1381, 1403, 1415, 1432, 1471, 1492, 1504, 1517, 1679, 1710, 1761, 1789, 1800, 1828, 1858, 1865, 1877, 1896, 1902, 1907, 1910, 1929, 1934, 1945, 1982, 2012, 2035, 2087, 2102, 2110, 2121, 2124, 2125, 2132, 2144, 2159, 2182, 2198, 2238, 2270, 2274, 2279, 2288, 2324, 2325, 2332, 2335, 2339, 2341, 2389, 2401, 2402, 2405, 2406, 2410, 2411, 2413, 2426, 2454, 2458, 2465, 2467, 2473, 2475, 2482, 2487, 2501, 2519, 2520, 2521, 2522, 2525, 2526, 2529, 2545, 2555, 2566, 2585, 2590, 2608, 2612, 2615, 2624, 2645, 2650, 2696, 2697, 2713, 2715, 2741, 2761, 2762, 2774, 2792, 2826, 2828, 2830, 2852, 2879, 2895, 2906, 2910, 2963, 3012, 3064, 3079, 3343, 3386, 3390, 3489, 3493, 3494, 3496, 3518, 3538, 3542, 3569, 3575, 3588, 3591, 3592, 3601, 3645, 3649, 3674, 3678, 3679, 3698, 3710, 3728, 3757, 3767, 3773, 3779, 3805, 3825, 3881])]\n"
     ]
    }
   ],
   "source": [
    "# based on the figure above, cut the tree at 2\n",
    "metClus = fcluster(ZM, 2, criterion='distance')\n",
    "print(metClus[:10])   \n",
    "\n",
    "number_features, number_clusters = len(metClus), len(set(list(metClus)))\n",
    "print(\"number of features: \", number_features)\n",
    "print(\"number of clusters: \", number_clusters)\n",
    "\n",
    "# Compile clusters\n",
    "metClusDict = {}\n",
    "for ii in range(number_features):\n",
    "    if metClusDict.has_key(metClus[ii]):\n",
    "        metClusDict[ metClus[ii] ].append(ii)\n",
    "    else:\n",
    "        metClusDict[ metClus[ii] ] = [ii]\n",
    "        \n",
    "print(metClusDict.items()[:3])    # This organizes cluster, members"
   ]
  },
  {
   "cell_type": "markdown",
   "metadata": {},
   "source": [
    "## Now with clusters from both Transriptomics and Metabolomics, do PLS regression\n",
    "We ignore clusters with < 3 members for now. Future development should deal with small clusters and singletons.\n"
   ]
  },
  {
   "cell_type": "code",
   "execution_count": 54,
   "metadata": {
    "collapsed": false
   },
   "outputs": [
    {
     "name": "stdout",
     "output_type": "stream",
     "text": [
      "(1,)\n",
      "(2,)\n",
      "(3,)\n",
      "(4,)\n",
      "(5,)\n",
      "(6,)\n",
      "(7,)\n",
      "(8,)\n",
      "(9,)\n",
      "(10,)\n",
      "(11,)\n",
      "(12,)\n",
      "(13,)\n",
      "(14,)\n",
      "(15,)\n",
      "(16,)\n",
      "(17,)\n",
      "(18,)\n",
      "(19,)\n",
      "(20,)\n",
      "(21,)\n",
      "(22,)\n",
      "(23,)\n",
      "(24,)\n",
      "(25,)\n",
      "(26,)\n"
     ]
    }
   ],
   "source": [
    "# cross regress T x M clusters\n",
    "# not at single feature level, but on clusters\n",
    "from sklearn.cross_decomposition import PLSRegression\n",
    "\n",
    "PLS = PLSRegression(n_components=3)\n",
    "pls_scores = []\n",
    "\n",
    "for g in btmClusDict.keys():\n",
    "    if len(btmClusDict[g]) >= 3:\n",
    "        print(g,)\n",
    "        for m in metClusDict.keys():\n",
    "            if len(metClusDict[m]) >= 3:\n",
    "                # Getting corresponding rows from btm and metabo. Note data starting from 2nd col; Subjs prematched.\n",
    "                matrix1, matrix2 = btm.values[ btmClusDict[g], 1: ], metabo.values[ metClusDict[m], 1: ]\n",
    "                matrix1, matrix2 = np.transpose(matrix1), np.transpose(matrix2)\n",
    "                # PLS regression\n",
    "                PLS.fit(matrix1, matrix2)\n",
    "                PLSscore = PLS.score(matrix1, matrix2)\n",
    "                pls_scores.append(( g, m, PLSscore ))\n",
    "\n",
    "with open('diagnosisVbaseline_TM_PLSscores.txt', 'w') as file:\n",
    "    file.write( 'btm_Cluster_number\\tmetabo_Cluster_number\\tPLSscore\\n' + '\\n'.join([\n",
    "        '\\t'.join([str(ii) for ii in x]) for x in pls_scores\n",
    "    ]) + '\\n'\n",
    "    )\n",
    "    "
   ]
  },
  {
   "cell_type": "markdown",
   "metadata": {},
   "source": [
    "## Summary\n",
    "The best of PLSscore is <= 1, but it can be \"arbitrarily worse\".\n",
    "Scores are saved in \"diagnosisVbaseline_TM_PLSscores.txt\".\n",
    "They will later be compared with permutation data.\n",
    "\n",
    "Try on baseline data below."
   ]
  },
  {
   "cell_type": "code",
   "execution_count": 55,
   "metadata": {
    "collapsed": false
   },
   "outputs": [
    {
     "data": {
      "text/html": [
       "<div>\n",
       "<table border=\"1\" class=\"dataframe\">\n",
       "  <thead>\n",
       "    <tr style=\"text-align: right;\">\n",
       "      <th></th>\n",
       "      <th>BTM</th>\n",
       "      <th>N1</th>\n",
       "      <th>N2</th>\n",
       "      <th>N3</th>\n",
       "      <th>N4</th>\n",
       "      <th>N5</th>\n",
       "      <th>N6</th>\n",
       "      <th>SI1</th>\n",
       "      <th>SI2</th>\n",
       "      <th>SI3</th>\n",
       "      <th>SI4</th>\n",
       "      <th>SI5</th>\n",
       "      <th>SI6</th>\n",
       "    </tr>\n",
       "  </thead>\n",
       "  <tbody>\n",
       "    <tr>\n",
       "      <th>0</th>\n",
       "      <td>integrin cell surface interactions (I) (M1.0)</td>\n",
       "      <td>3.206</td>\n",
       "      <td>2.780</td>\n",
       "      <td>2.455</td>\n",
       "      <td>3.709</td>\n",
       "      <td>3.329</td>\n",
       "      <td>3.061</td>\n",
       "      <td>3.854</td>\n",
       "      <td>3.134</td>\n",
       "      <td>3.423</td>\n",
       "      <td>3.214</td>\n",
       "      <td>3.593</td>\n",
       "      <td>3.046</td>\n",
       "    </tr>\n",
       "    <tr>\n",
       "      <th>1</th>\n",
       "      <td>extracellular matrix (I) (M2.0)</td>\n",
       "      <td>6.775</td>\n",
       "      <td>6.140</td>\n",
       "      <td>5.699</td>\n",
       "      <td>6.258</td>\n",
       "      <td>5.926</td>\n",
       "      <td>5.632</td>\n",
       "      <td>6.265</td>\n",
       "      <td>5.876</td>\n",
       "      <td>5.234</td>\n",
       "      <td>5.774</td>\n",
       "      <td>5.495</td>\n",
       "      <td>6.262</td>\n",
       "    </tr>\n",
       "    <tr>\n",
       "      <th>2</th>\n",
       "      <td>extracellular matrix (II) (M2.1)</td>\n",
       "      <td>5.952</td>\n",
       "      <td>5.732</td>\n",
       "      <td>5.645</td>\n",
       "      <td>5.691</td>\n",
       "      <td>5.701</td>\n",
       "      <td>5.632</td>\n",
       "      <td>6.030</td>\n",
       "      <td>5.641</td>\n",
       "      <td>5.363</td>\n",
       "      <td>5.590</td>\n",
       "      <td>5.576</td>\n",
       "      <td>5.586</td>\n",
       "    </tr>\n",
       "    <tr>\n",
       "      <th>3</th>\n",
       "      <td>extracellular matrix (III) (M2.2)</td>\n",
       "      <td>6.775</td>\n",
       "      <td>6.140</td>\n",
       "      <td>5.699</td>\n",
       "      <td>6.258</td>\n",
       "      <td>5.926</td>\n",
       "      <td>5.632</td>\n",
       "      <td>6.265</td>\n",
       "      <td>5.876</td>\n",
       "      <td>5.234</td>\n",
       "      <td>5.774</td>\n",
       "      <td>5.495</td>\n",
       "      <td>6.262</td>\n",
       "    </tr>\n",
       "    <tr>\n",
       "      <th>4</th>\n",
       "      <td>regulation of signal transduction (M3)</td>\n",
       "      <td>5.399</td>\n",
       "      <td>5.052</td>\n",
       "      <td>4.696</td>\n",
       "      <td>4.846</td>\n",
       "      <td>4.924</td>\n",
       "      <td>4.988</td>\n",
       "      <td>5.490</td>\n",
       "      <td>4.894</td>\n",
       "      <td>4.647</td>\n",
       "      <td>4.929</td>\n",
       "      <td>4.701</td>\n",
       "      <td>5.019</td>\n",
       "    </tr>\n",
       "  </tbody>\n",
       "</table>\n",
       "</div>"
      ],
      "text/plain": [
       "                                             BTM     N1     N2     N3     N4  \\\n",
       "0  integrin cell surface interactions (I) (M1.0)  3.206  2.780  2.455  3.709   \n",
       "1                extracellular matrix (I) (M2.0)  6.775  6.140  5.699  6.258   \n",
       "2               extracellular matrix (II) (M2.1)  5.952  5.732  5.645  5.691   \n",
       "3              extracellular matrix (III) (M2.2)  6.775  6.140  5.699  6.258   \n",
       "4         regulation of signal transduction (M3)  5.399  5.052  4.696  4.846   \n",
       "\n",
       "      N5     N6    SI1    SI2    SI3    SI4    SI5    SI6  \n",
       "0  3.329  3.061  3.854  3.134  3.423  3.214  3.593  3.046  \n",
       "1  5.926  5.632  6.265  5.876  5.234  5.774  5.495  6.262  \n",
       "2  5.701  5.632  6.030  5.641  5.363  5.590  5.576  5.586  \n",
       "3  5.926  5.632  6.265  5.876  5.234  5.774  5.495  6.262  \n",
       "4  4.924  4.988  5.490  4.894  4.647  4.929  4.701  5.019  "
      ]
     },
     "execution_count": 55,
     "metadata": {},
     "output_type": "execute_result"
    }
   ],
   "source": [
    "btm0 = pd.read_table(DataDir + 'colombia_BTMactivity_basel.txt')\n",
    "btm0.head()"
   ]
  },
  {
   "cell_type": "code",
   "execution_count": 56,
   "metadata": {
    "collapsed": false
   },
   "outputs": [
    {
     "data": {
      "image/png": "[encoded data removed]",
      "text/plain": [
       "<matplotlib.figure.Figure at 0x7f768bceba50>"
      ]
     },
     "metadata": {},
     "output_type": "display_data"
    }
   ],
   "source": [
    "# distance matrix\n",
    "Y0 = pdist(btm0.values[:, 1:], 'correlation')\n",
    "# linkage matrix\n",
    "Z0 = linkage(Y0, method='ward')\n",
    "\n",
    "plt.figure(figsize=(10, 6))\n",
    "plt.title('HCL BTM baseline')\n",
    "plt.ylabel('Distance')\n",
    "dendrogram(Z0)\n",
    "plt.show()"
   ]
  },
  {
   "cell_type": "code",
   "execution_count": 57,
   "metadata": {
    "collapsed": false
   },
   "outputs": [
    {
     "name": "stdout",
     "output_type": "stream",
     "text": [
      "[12  2  2  2  2  2 28 18  2 26  6 28 15 26 26  4 14 18  6 27 27 27 27 28 24\n",
      "  4 28 28  2  4  4 13  1 24 28  4 24 24 19 13  6 26 19  1  4 19 11 27 19 12\n",
      " 19 20 20 16 20 16 16 16 16 14  2 12 19 28 28  4  4  4  5 19  6  4  4 19  1\n",
      "  3 28  2 22 22 22 22 22  4  4 14 19  3  1  4  4 20 19  1  1 21 27 27 22 16\n",
      " 19 23  2  1  1 22 20  4 17  6  6  6  1 22  1 13 23  2  4 13 12 22  4 12 19\n",
      "  1  4  1 17 19 19 15  2 19 19  6  9 21 20  6 22 13  8  1 27  7  3 27  1  1\n",
      "  3 12  4  4  4  1 24  4  4  1 20  1 25  9 20 23  1  6  6 27  1  4 18 21 16\n",
      "  6  5  2  2  1  7  6 12 12 10  6  6  1 24  4  1  4  6  3 26 26 27 12 19  9\n",
      " 18  4  1 10  1  5 10 10  5 15 15 22  5  6 26 28  3 20  6 20  5 19  5  2 10\n",
      "  6 12  4 12 17 10 21 27 27  6  6  2  4  5 25  6  6  4 25 15 25 14  8 27 26\n",
      " 26 27 24 25 10 16 27 15  6 17  7  6 16 25 11 16  9 25 24 28 22 16  4  1 10\n",
      " 24 22 26  2  4 19]\n",
      "('number of features: ', 281)\n",
      "('number of clusters: ', 28)\n",
      "[(1, [32, 43, 74, 88, 93, 94, 103, 104, 112, 114, 125, 127, 143, 148, 149, 155, 159, 161, 166, 170, 179, 187, 190, 202, 204, 273]), (2, [1, 2, 3, 4, 5, 8, 28, 60, 77, 102, 117, 132, 177, 178, 223, 236, 278]), (3, [75, 87, 146, 150, 193, 216])]\n"
     ]
    }
   ],
   "source": [
    "# Note: run order matters in these code blocks\n",
    "\n",
    "# based on the figure above, cut the tree at 1\n",
    "btmClus0 = fcluster(Z0, 1, criterion='distance')\n",
    "\n",
    "print(btmClus0)    # This is cluster number for each row in btm\n",
    "\n",
    "number_features, number_clusters = len(btmClus0), len(set(list(btmClus0)))\n",
    "print(\"number of features: \", number_features)\n",
    "print(\"number of clusters: \", number_clusters)\n",
    "\n",
    "# Compile clusters\n",
    "btmClusDict = {}\n",
    "for ii in range(number_features):\n",
    "    if btmClusDict.has_key(btmClus0[ii]):\n",
    "        btmClusDict[ btmClus0[ii] ].append(ii)\n",
    "    else:\n",
    "        btmClusDict[ btmClus0[ii] ] = [ii]\n",
    "        \n",
    "print(btmClusDict.items()[:3])    # This organizes cluster, members\n"
   ]
  },
  {
   "cell_type": "code",
   "execution_count": 58,
   "metadata": {
    "collapsed": false,
    "scrolled": true
   },
   "outputs": [
    {
     "data": {
      "text/html": [
       "<div>\n",
       "<table border=\"1\" class=\"dataframe\">\n",
       "  <thead>\n",
       "    <tr style=\"text-align: right;\">\n",
       "      <th></th>\n",
       "      <th>mz</th>\n",
       "      <th>time</th>\n",
       "      <th>N1</th>\n",
       "      <th>N2</th>\n",
       "      <th>N3</th>\n",
       "      <th>N4</th>\n",
       "      <th>N5</th>\n",
       "      <th>N6</th>\n",
       "      <th>SI1</th>\n",
       "      <th>SI2</th>\n",
       "      <th>SI3</th>\n",
       "      <th>SI4</th>\n",
       "      <th>SI5</th>\n",
       "      <th>SI6</th>\n",
       "    </tr>\n",
       "  </thead>\n",
       "  <tbody>\n",
       "    <tr>\n",
       "      <th>0</th>\n",
       "      <td>85.028652</td>\n",
       "      <td>275.315404</td>\n",
       "      <td>22.765444</td>\n",
       "      <td>24.235381</td>\n",
       "      <td>22.974513</td>\n",
       "      <td>22.079431</td>\n",
       "      <td>22.782930</td>\n",
       "      <td>22.614064</td>\n",
       "      <td>22.317718</td>\n",
       "      <td>21.715938</td>\n",
       "      <td>21.846596</td>\n",
       "      <td>21.407006</td>\n",
       "      <td>22.507095</td>\n",
       "      <td>22.223187</td>\n",
       "    </tr>\n",
       "    <tr>\n",
       "      <th>1</th>\n",
       "      <td>85.028687</td>\n",
       "      <td>114.320308</td>\n",
       "      <td>21.633623</td>\n",
       "      <td>21.411211</td>\n",
       "      <td>16.839990</td>\n",
       "      <td>22.899276</td>\n",
       "      <td>22.352766</td>\n",
       "      <td>22.252941</td>\n",
       "      <td>20.274913</td>\n",
       "      <td>21.684780</td>\n",
       "      <td>21.748549</td>\n",
       "      <td>20.954136</td>\n",
       "      <td>21.531069</td>\n",
       "      <td>15.847699</td>\n",
       "    </tr>\n",
       "    <tr>\n",
       "      <th>2</th>\n",
       "      <td>85.047995</td>\n",
       "      <td>127.075639</td>\n",
       "      <td>21.557743</td>\n",
       "      <td>23.625242</td>\n",
       "      <td>22.562541</td>\n",
       "      <td>0.000000</td>\n",
       "      <td>21.934977</td>\n",
       "      <td>22.805880</td>\n",
       "      <td>21.805570</td>\n",
       "      <td>22.330632</td>\n",
       "      <td>21.862336</td>\n",
       "      <td>21.249401</td>\n",
       "      <td>20.989709</td>\n",
       "      <td>21.085978</td>\n",
       "    </tr>\n",
       "    <tr>\n",
       "      <th>3</th>\n",
       "      <td>85.065074</td>\n",
       "      <td>261.795854</td>\n",
       "      <td>26.652813</td>\n",
       "      <td>27.505616</td>\n",
       "      <td>26.353987</td>\n",
       "      <td>26.293264</td>\n",
       "      <td>25.872403</td>\n",
       "      <td>26.990890</td>\n",
       "      <td>25.806067</td>\n",
       "      <td>26.444982</td>\n",
       "      <td>25.865171</td>\n",
       "      <td>25.604309</td>\n",
       "      <td>25.590818</td>\n",
       "      <td>26.003205</td>\n",
       "    </tr>\n",
       "    <tr>\n",
       "      <th>4</th>\n",
       "      <td>85.076279</td>\n",
       "      <td>160.888279</td>\n",
       "      <td>22.943982</td>\n",
       "      <td>22.112600</td>\n",
       "      <td>23.329563</td>\n",
       "      <td>20.404194</td>\n",
       "      <td>21.293158</td>\n",
       "      <td>22.984413</td>\n",
       "      <td>22.395191</td>\n",
       "      <td>23.133225</td>\n",
       "      <td>21.895593</td>\n",
       "      <td>22.124032</td>\n",
       "      <td>21.944831</td>\n",
       "      <td>22.713366</td>\n",
       "    </tr>\n",
       "  </tbody>\n",
       "</table>\n",
       "</div>"
      ],
      "text/plain": [
       "          mz        time         N1         N2         N3         N4  \\\n",
       "0  85.028652  275.315404  22.765444  24.235381  22.974513  22.079431   \n",
       "1  85.028687  114.320308  21.633623  21.411211  16.839990  22.899276   \n",
       "2  85.047995  127.075639  21.557743  23.625242  22.562541   0.000000   \n",
       "3  85.065074  261.795854  26.652813  27.505616  26.353987  26.293264   \n",
       "4  85.076279  160.888279  22.943982  22.112600  23.329563  20.404194   \n",
       "\n",
       "          N5         N6        SI1        SI2        SI3        SI4  \\\n",
       "0  22.782930  22.614064  22.317718  21.715938  21.846596  21.407006   \n",
       "1  22.352766  22.252941  20.274913  21.684780  21.748549  20.954136   \n",
       "2  21.934977  22.805880  21.805570  22.330632  21.862336  21.249401   \n",
       "3  25.872403  26.990890  25.806067  26.444982  25.865171  25.604309   \n",
       "4  21.293158  22.984413  22.395191  23.133225  21.895593  22.124032   \n",
       "\n",
       "         SI5        SI6  \n",
       "0  22.507095  22.223187  \n",
       "1  21.531069  15.847699  \n",
       "2  20.989709  21.085978  \n",
       "3  25.590818  26.003205  \n",
       "4  21.944831  22.713366  "
      ]
     },
     "execution_count": 58,
     "metadata": {},
     "output_type": "execute_result"
    }
   ],
   "source": [
    "metabo0 = pd.read_table(DataDir + 'HILIC_pos_baseline.txt')\n",
    "metabo0.head()"
   ]
  },
  {
   "cell_type": "code",
   "execution_count": 60,
   "metadata": {
    "collapsed": false
   },
   "outputs": [
    {
     "name": "stdout",
     "output_type": "stream",
     "text": [
      "((4236, 14), (8969730,))\n",
      "('Vector delta_RT len: ', 8969730)\n"
     ]
    },
    {
     "data": {
      "image/png": "[encoded data removed]",
      "text/plain": [
       "<matplotlib.figure.Figure at 0x7f7690e23290>"
      ]
     },
     "metadata": {},
     "output_type": "display_data"
    }
   ],
   "source": [
    "# Same weighted clustering method as above for metabo\n",
    "# Copy & paste most code from above\n",
    "\n",
    "# Note data starting from col 2!!!\n",
    "YM = pdist(metabo0.values[:, 2:], 'correlation')\n",
    "print(metabo0.shape, YM.shape)\n",
    "retention_time = [float(x) for x in metabo0.values[:,1]]\n",
    "min_retention_time, max_retention_time = min(retention_time), max(retention_time)\n",
    "range_retention_time = max_retention_time - min_retention_time\n",
    "#print(\"min_retention_time, max_retention_time\", min_retention_time, max_retention_time)\n",
    "\n",
    "PearsonR = 1 - YM\n",
    "#print(PearsonR[:20])\n",
    "\n",
    "delta_RT = []\n",
    "for ii in range(metabo0.shape[0]):\n",
    "    for jj in range(ii+1, metabo0.shape[0]):\n",
    "        delta_RT.append(abs(retention_time[ii] - retention_time[jj]))        \n",
    "\n",
    "print(\"Vector delta_RT len: \", len(delta_RT))\n",
    "\n",
    "YM_new = 1 - (1- np.array(delta_RT)/range_retention_time)*PearsonR\n",
    "\n",
    "# Metabolite features linkage matrix using new distance matrix\n",
    "ZM = linkage(YM_new, method='ward')\n",
    "\n",
    "plt.figure(figsize=(10, 6))\n",
    "plt.title('HCL HILICpos Metabo baseline')\n",
    "plt.ylabel('Distance')\n",
    "dendrogram(ZM)\n",
    "plt.show()"
   ]
  },
  {
   "cell_type": "code",
   "execution_count": 61,
   "metadata": {
    "collapsed": false,
    "scrolled": true
   },
   "outputs": [
    {
     "name": "stdout",
     "output_type": "stream",
     "text": [
      "[79 97 67]\n",
      "('number of features: ', 4236)\n",
      "('number of clusters: ', 106)\n",
      "[(1, [73, 119, 2363, 2719, 2752, 2865, 2921, 3011, 3068, 3164, 3242, 3287, 3295, 3652, 4016, 4194]), (2, [459, 706, 730, 1205, 1622, 1903, 2197, 2551, 2698, 2734, 2808, 2859, 2870, 2947, 3060, 3065, 3090, 3118, 3135, 3147, 3232, 3297, 3328, 3333, 3370, 3377, 3519, 3602, 3702, 3824, 3884, 3899, 3903, 3926, 4006, 4052, 4156, 4172, 4208, 4211, 4212, 4221, 4227]), (3, [19, 35, 44, 441, 641, 843, 1114, 1115, 1199, 1370, 1484, 3798])]\n"
     ]
    }
   ],
   "source": [
    "# repeat same procedure as earlier\n",
    "# based on the figure above, cut the tree at 2\n",
    "metClus = fcluster(ZM, 2, criterion='distance')\n",
    "print(metClus[:3])   \n",
    "\n",
    "number_features, number_clusters = len(metClus), len(set(list(metClus)))\n",
    "print(\"number of features: \", number_features)\n",
    "print(\"number of clusters: \", number_clusters)\n",
    "\n",
    "# Compile clusters\n",
    "metClusDict = {}\n",
    "for ii in range(number_features):\n",
    "    if metClusDict.has_key(metClus[ii]):\n",
    "        metClusDict[ metClus[ii] ].append(ii)\n",
    "    else:\n",
    "        metClusDict[ metClus[ii] ] = [ii]\n",
    "        \n",
    "print(metClusDict.items()[:3])    # This organizes cluster, members"
   ]
  },
  {
   "cell_type": "code",
   "execution_count": 62,
   "metadata": {
    "collapsed": false
   },
   "outputs": [
    {
     "name": "stdout",
     "output_type": "stream",
     "text": [
      "--- 6.81740999222 seconds ---\n"
     ]
    }
   ],
   "source": [
    "# do PLS regression on these baseline clusters\n",
    "# Again, run order matters as we overwrote some variables\n",
    "\n",
    "# Time the run\n",
    "import time\n",
    "start_time = time.time()\n",
    "\n",
    "PLS = PLSRegression(n_components=3)\n",
    "pls_scores = []\n",
    "\n",
    "for g in btmClusDict.keys():\n",
    "    if len(btmClusDict[g]) >= 3:\n",
    "        #print(g,)\n",
    "        for m in metClusDict.keys():\n",
    "            if len(metClusDict[m]) >= 3:\n",
    "                # Getting corresponding rows from btm and metabo. Subjs prematched.\n",
    "                # Note data starting from 2nd OR 3rd col;\n",
    "                matrix1, matrix2 = btm0.values[ btmClusDict[g], 1: ], metabo0.values[ metClusDict[m], 2: ]\n",
    "                matrix1, matrix2 = np.transpose(matrix1), np.transpose(matrix2)\n",
    "                # PLS regression\n",
    "                PLS.fit(matrix1, matrix2)\n",
    "                PLSscore = PLS.score(matrix1, matrix2)\n",
    "                pls_scores.append(( g, m, PLSscore ))\n",
    "\n",
    "with open('Baseline_TM_PLSscores.txt', 'w') as file:\n",
    "    file.write( 'btm_Cluster_number\\tmetabo_Cluster_number\\tPLSscore\\n' + '\\n'.join([\n",
    "        '\\t'.join([str(ii) for ii in x]) for x in pls_scores\n",
    "    ]) + '\\n'\n",
    "    )\n",
    "    \n",
    "print(\"--- %s seconds ---\" % (time.time() - start_time))"
   ]
  },
  {
   "cell_type": "markdown",
   "metadata": {},
   "source": [
    "## With PLS scores, now do permutations\n",
    "Each run of 30 * 100 returns 3000 scores. 500 runs do ~ 1.5 million permutations.\n",
    "Given the ~10 seconds run time above, 10*500/60.0/60 = 1.4 hours on this laptop...\n",
    "\n",
    "Resampling both features and sample labels. Matching cluster sizes."
   ]
  },
  {
   "cell_type": "code",
   "execution_count": 70,
   "metadata": {
    "collapsed": false
   },
   "outputs": [
    {
     "name": "stdout",
     "output_type": "stream",
     "text": [
      "26 [26, 17, 6] 106 [16, 43, 12]\n",
      "--- 8699.34481311 seconds ---\n"
     ]
    }
   ],
   "source": [
    "# cluster sizes\n",
    "gSizes = [len(x) for x in btmClusDict.values() if len(x) > 2]\n",
    "mSizes = [len(x) for x in metClusDict.values() if len(x) > 2]\n",
    "print len(gSizes), gSizes[:3], len(mSizes), mSizes[:3]\n",
    "\n",
    "gArray0 = btm0.values[:,1:].flatten()\n",
    "mArray0 = metabo0.values[:, 2:].flatten()\n",
    "\n",
    "gArray = btm.values[:,1:].flatten()\n",
    "mArray = metabo.values[:, 1:].flatten()\n",
    "\n",
    "SampleNumber = 12\n",
    "\n",
    "from random import sample as permutation\n",
    "PLS = PLSRegression(n_components=3)\n",
    "\n",
    "def do_permutations(gArray, mArray, N=500):\n",
    "    # this overdoes mArray permutation\n",
    "    scores = []\n",
    "    for jj in range(N):\n",
    "        for g in gSizes:\n",
    "            matrix1 = []\n",
    "            for ii in range(g):\n",
    "                matrix1.append(permutation(gArray, SampleNumber))\n",
    "            matrix1 = np.array(matrix1).T\n",
    "            for m in mSizes:\n",
    "                matrix2 = []\n",
    "                for ii in range(m):\n",
    "                    matrix2.append(permutation(mArray, SampleNumber))\n",
    "                matrix2 = np.array(matrix2).T\n",
    "                #\n",
    "                PLS.fit(matrix1, matrix2)\n",
    "                PLSscore = PLS.score(matrix1, matrix2)\n",
    "                scores.append( PLSscore )\n",
    "\n",
    "    return scores\n",
    "\n",
    "def do_both(N=500):\n",
    "    scores0 = do_permutations(gArray0, mArray0, N)\n",
    "    with open('Permutation_scores_baseline.txt', 'w') as file:\n",
    "        file.write('\\n'.join([str(round(x,3)) for x in scores0]))\n",
    "        \n",
    "    scores = do_permutations(gArray, mArray, N)\n",
    "    with open('Permutation_scores_diagVbasel.txt', 'w') as file:\n",
    "        file.write('\\n'.join([str(round(x,3)) for x in scores]))\n",
    "\n",
    "start_time = time.time()\n",
    "do_both(N=500)\n",
    "print(\"--- %s seconds ---\" % (time.time() - start_time))\n",
    "\n",
    "\n",
    "# Note, --- 8699.34481311 seconds ---\n",
    "# More appropariate way is to do PLS regression both directions. There's difference X predicting Y vs Y predicting X.\n"
   ]
  },
  {
   "cell_type": "code",
   "execution_count": 97,
   "metadata": {
    "collapsed": false
   },
   "outputs": [
    {
     "data": {
      "image/png": "[encoded data removed]",
      "text/plain": [
       "<matplotlib.figure.Figure at 0x7f768fbe4410>"
      ]
     },
     "metadata": {},
     "output_type": "display_data"
    }
   ],
   "source": [
    "# look up p-values for PLS scores via a fitted polynomial function. Rank based method is too slow. \n",
    "\n",
    "permutation_list_baseline = [float(x) for x in open(\"Permutation_scores_baseline.txt\").readlines()]\n",
    "plslistlength = len(permutation_list_baseline)\n",
    "permutation_list_baseline.sort(reverse=True)\n",
    "N_positive = len([x for x in permutation_list_baseline if x >0])\n",
    "\n",
    "# fit a function log10(p-value) = f(score). Rank based lookup too slow\n",
    "fp = np.polyfit(permutation_list_baseline[:N_positive], \n",
    "                np.log10(np.arange(1,N_positive+1)/float(plslistlength)), 3)\n",
    "\n",
    "def fp_predict(x, fp):\n",
    "    return fp[0]*x**3 + fp[1]*x**2 + fp[2]*x + fp[3]\n",
    "\n",
    "sparseY = np.arange(1, 1000000, 1000)\n",
    "sparseX = [permutation_list_baseline[ii] for ii in sparseY]\n",
    "plt.plot(sparseX, np.log10(sparseY/float(plslistlength)), 'bo')\n",
    "plt.plot(sparseX, [fp_predict(x, fp) for x in sparseX], 'r-')\n",
    "plt.show()\n",
    "\n",
    "# Compute p-values\n",
    "s = \"btm_Cluster_number\\tmetabo_Cluster_number\\tPLSscore\\tlog10(p-value)\\n\"\n",
    "\n",
    "for line in open(\"Baseline_TM_PLSscores.txt\").readlines()[1:]:\n",
    "    a = line.rstrip().split('\\t')\n",
    "    score = float(a[2])\n",
    "    if score > 0:   # Must ignore negative values\n",
    "        log10p = fp_predict(score, fp)\n",
    "        s += '\\t'.join( a  + [str(log10p)]) + '\\n'\n",
    "    \n",
    "with open(\"pvalues_Baseline_TM_PLSscores.txt\", \"w\") as file:\n",
    "    file.write(s)"
   ]
  },
  {
   "cell_type": "code",
   "execution_count": 98,
   "metadata": {
    "collapsed": false
   },
   "outputs": [
    {
     "data": {
      "image/png": "[encoded data removed]",
      "text/plain": [
       "<matplotlib.figure.Figure at 0x7f76974099d0>"
      ]
     },
     "metadata": {},
     "output_type": "display_data"
    }
   ],
   "source": [
    "# do same for diag vs baseline data\n",
    "\n",
    "permutation_list_2 = [float(x) for x in open(\"Permutation_scores_diagVbasel.txt\").readlines()]\n",
    "plslistlength = len(permutation_list_2)\n",
    "permutation_list_2.sort(reverse=True)\n",
    "N_positive = len([x for x in permutation_list_2 if x >0])\n",
    "\n",
    "# fit a function log10(p-value) = f(score). Rank based lookup too slow\n",
    "fp = np.polyfit(permutation_list_2[:N_positive], \n",
    "                np.log10(np.arange(1,N_positive+1)/float(plslistlength)), 3)\n",
    "\n",
    "sparseY = np.arange(1, 1000000, 1000)\n",
    "sparseX = [permutation_list_2[ii] for ii in sparseY]\n",
    "plt.plot(sparseX, np.log10(sparseY/float(plslistlength)), 'bo')\n",
    "plt.plot(sparseX, [fp_predict(x, fp) for x in sparseX], 'r-')\n",
    "plt.show()\n",
    "\n",
    "# Compute p-values\n",
    "s = \"btm_Cluster_number\\tmetabo_Cluster_number\\tPLSscore\\tlog10(p-value)\\n\"\n",
    "\n",
    "for line in open(\"diagnosisVbaseline_TM_PLSscores.txt\").readlines()[1:]:\n",
    "    a = line.rstrip().split('\\t')\n",
    "    score = float(a[2])\n",
    "    if score > 0:   # Must ignore negative values\n",
    "        log10p = fp_predict(score, fp)\n",
    "        s += '\\t'.join( a  + [str(log10p)]) + '\\n'\n",
    "    \n",
    "with open(\"pvalues_diagnosisVbaseline_TM_PLSscores.txt\", \"w\") as file:\n",
    "    file.write(s)\n"
   ]
  },
  {
   "cell_type": "raw",
   "metadata": {},
   "source": [
    "Note: got many significant connections in Diag_v_baseline data, barely any in baseline data\n",
    "One can make a figure of network of clusters based on the pvalue files. \n",
    "\n",
    "btm_Cluster_number\tmetabo_Cluster_number\tPLSscore\tlog10(p-value)\n",
    "23\t63\t0.543722665355\t-6.43260620336\n",
    "23\t5\t0.531364074522\t-6.12337665018\n",
    "18\t94\t0.498397936462\t-5.34338031333\n",
    "8\t87\t0.484689484755\t-5.03790569792\n",
    "8\t63\t0.474277693736\t-4.81317324709\n",
    "23\t64\t0.474221786177\t-4.81198335461"
   ]
  },
  {
   "cell_type": "code",
   "execution_count": 105,
   "metadata": {
    "collapsed": false
   },
   "outputs": [
    {
     "name": "stdout",
     "output_type": "stream",
     "text": [
      "((281, 13), (281, 13))\n"
     ]
    }
   ],
   "source": [
    "# Function to retrieve clusters and members\n",
    "# Too bad overwritten metClusDict and btmClusDict\n",
    "# still have btmClus0, btmClus, metClus, metClus0\n",
    "\n",
    "# have to redo this\n",
    "metClus0 = fcluster(ZM, 2, criterion='distance')\n",
    "metClus = metClus_redo\n",
    "\n",
    "print(btm.shape, btm0.shape)\n",
    "\n",
    "# btm_clus #19 at basl\n",
    "goodrows = []\n",
    "for ii in range(btm0.shape[0]):\n",
    "    if btmClus0[ii] == 19:\n",
    "        goodrows.append(ii)\n",
    "\n",
    "btm0.iloc[goodrows, :].to_csv(\"btm0_clus19.txt\", sep=\"\\t\")\n",
    "\n",
    "wanted_clusters = [32, 34, 71, 81, 98]\n",
    "for c in wanted_clusters:\n",
    "    goodrows = []\n",
    "    for ii in range(metabo0.shape[0]):\n",
    "        if metClus0[ii] == c:\n",
    "            goodrows.append(ii)\n",
    "\n",
    "    metabo0.iloc[goodrows, :].to_csv(\"metabo0_clus_%d.txt\" %c, sep=\"\\t\")\n",
    "\n",
    "# moved these files to baseline_clusters\n",
    "# separately made dirs\n"
   ]
  },
  {
   "cell_type": "code",
   "execution_count": 109,
   "metadata": {
    "collapsed": false
   },
   "outputs": [],
   "source": [
    "#\n",
    "def write_cluster(OUTDIR, wanted_clusters, metClus, metabo, prefix=\"metabo_\"):\n",
    "    for c in wanted_clusters:\n",
    "        goodrows = []\n",
    "        for ii in range(metabo.shape[0]):\n",
    "            if metClus[ii] == c:\n",
    "                goodrows.append(ii)\n",
    "\n",
    "        metabo.iloc[goodrows, :].to_csv( OUTDIR + prefix + \"clus_%d.txt\" %c, sep=\"\\t\")\n",
    "    \n",
    "# now do diagVbaseline\n",
    "wanted_g, wanted_m = [], []\n",
    "for line in open(\"pvalues_diagnosisVbaseline_TM_PLSscores.txt\").readlines()[1:]:\n",
    "    a = line.split('\\t')\n",
    "    if line.strip() and float(a[3]) < -2:   # p < 0.01\n",
    "        wanted_g.append( int(a[0] ))\n",
    "        wanted_m.append( int(a[1]) )\n",
    "\n",
    "# write btm clus\n",
    "write_cluster(\"btm_clusters_diagVbasl/\", wanted_g, btmClus, btm, prefix=\"btm_\")\n",
    "# write metabo clus\n",
    "write_cluster(\"metabo_clusters_diagVbasl/\", wanted_m, metClus, metabo, prefix=\"metabo_\")\n"
   ]
  },
  {
   "cell_type": "markdown",
   "metadata": {},
   "source": [
    "# Summary\n",
    "\n",
    "* A good number of BTM clusters and metabo Clusters are associated at diagnosis/baseline\n",
    "* Can make a network figure from \"pvalues_diagnosisVbaseline_TM_PLSscores.txt\". Figures in paper were made in Cytoscape and further edited.\n",
    "* Metabolite cluster data can be run by mummichog for interpretation; clusters may be combined."
   ]
  }
 ],
 "metadata": {
  "kernelspec": {
   "display_name": "Python 2",
   "language": "python",
   "name": "python2"
  },
  "language_info": {
   "codemirror_mode": {
    "name": "ipython",
    "version": 2
   },
   "file_extension": ".py",
   "mimetype": "text/x-python",
   "name": "python",
   "nbconvert_exporter": "python",
   "pygments_lexer": "ipython2",
   "version": "2.7.13"
  }
 },
 "nbformat": 4,
 "nbformat_minor": 2
}

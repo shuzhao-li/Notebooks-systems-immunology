{
 "cells": [
  {
   "cell_type": "markdown",
   "metadata": {},
   "source": [
    "# Scatter plot of two panels of VIP values\n",
    "This produces Figure 6G in Li et al. (2017) Metabolic Phenotypes of Response to Vaccination in Humans. Cell 169(5): p862-877 (https://www.cell.com/cell/fulltext/S0092-8674(17)30477-4).\n",
    "\n",
    "Objective: scatter plot of multiple groups of VIP values\n",
    "\n",
    "Environment: Python 2.x\n",
    "\n",
    "Technical level: beginner"
   ]
  },
  {
   "cell_type": "code",
   "execution_count": 1,
   "metadata": {
    "collapsed": true
   },
   "outputs": [],
   "source": [
    "# import libraries\n",
    "\n",
    "import pandas as pd\n",
    "import matplotlib.pyplot as plt\n",
    "import seaborn as sns\n",
    "%matplotlib inline"
   ]
  },
  {
   "cell_type": "code",
   "execution_count": 3,
   "metadata": {
    "collapsed": false
   },
   "outputs": [
    {
     "data": {
      "text/html": [
       "<div>\n",
       "<table border=\"1\" class=\"dataframe\">\n",
       "  <thead>\n",
       "    <tr style=\"text-align: right;\">\n",
       "      <th></th>\n",
       "      <th>Gene</th>\n",
       "      <th>D3VIP</th>\n",
       "      <th>D7VIP</th>\n",
       "    </tr>\n",
       "  </thead>\n",
       "  <tbody>\n",
       "    <tr>\n",
       "      <th>0</th>\n",
       "      <td>CAMK2D</td>\n",
       "      <td>1.66</td>\n",
       "      <td>2.24</td>\n",
       "    </tr>\n",
       "    <tr>\n",
       "      <th>1</th>\n",
       "      <td>FMR1</td>\n",
       "      <td>1.50</td>\n",
       "      <td>2.05</td>\n",
       "    </tr>\n",
       "    <tr>\n",
       "      <th>2</th>\n",
       "      <td>ZNF367</td>\n",
       "      <td>2.15</td>\n",
       "      <td>1.31</td>\n",
       "    </tr>\n",
       "    <tr>\n",
       "      <th>3</th>\n",
       "      <td>PNOC</td>\n",
       "      <td>1.47</td>\n",
       "      <td>1.84</td>\n",
       "    </tr>\n",
       "    <tr>\n",
       "      <th>4</th>\n",
       "      <td>HOXA7</td>\n",
       "      <td>1.63</td>\n",
       "      <td>1.65</td>\n",
       "    </tr>\n",
       "    <tr>\n",
       "      <th>5</th>\n",
       "      <td>VPS41</td>\n",
       "      <td>1.54</td>\n",
       "      <td>1.70</td>\n",
       "    </tr>\n",
       "    <tr>\n",
       "      <th>6</th>\n",
       "      <td>SEH1L</td>\n",
       "      <td>1.44</td>\n",
       "      <td>1.77</td>\n",
       "    </tr>\n",
       "    <tr>\n",
       "      <th>7</th>\n",
       "      <td>ALOX5</td>\n",
       "      <td>1.71</td>\n",
       "      <td>1.47</td>\n",
       "    </tr>\n",
       "    <tr>\n",
       "      <th>8</th>\n",
       "      <td>ITSN2</td>\n",
       "      <td>1.41</td>\n",
       "      <td>1.75</td>\n",
       "    </tr>\n",
       "    <tr>\n",
       "      <th>9</th>\n",
       "      <td>SOCS2</td>\n",
       "      <td>1.33</td>\n",
       "      <td>1.75</td>\n",
       "    </tr>\n",
       "    <tr>\n",
       "      <th>10</th>\n",
       "      <td>JUP</td>\n",
       "      <td>1.81</td>\n",
       "      <td>1.14</td>\n",
       "    </tr>\n",
       "    <tr>\n",
       "      <th>11</th>\n",
       "      <td>ATF2</td>\n",
       "      <td>1.10</td>\n",
       "      <td>1.79</td>\n",
       "    </tr>\n",
       "    <tr>\n",
       "      <th>12</th>\n",
       "      <td>ALDH6A1</td>\n",
       "      <td>0.82</td>\n",
       "      <td>2.06</td>\n",
       "    </tr>\n",
       "    <tr>\n",
       "      <th>13</th>\n",
       "      <td>POU2AF1</td>\n",
       "      <td>1.91</td>\n",
       "      <td>0.74</td>\n",
       "    </tr>\n",
       "    <tr>\n",
       "      <th>14</th>\n",
       "      <td>DYRK1A</td>\n",
       "      <td>1.61</td>\n",
       "      <td>1.03</td>\n",
       "    </tr>\n",
       "  </tbody>\n",
       "</table>\n",
       "</div>"
      ],
      "text/plain": [
       "       Gene  D3VIP  D7VIP\n",
       "0    CAMK2D   1.66   2.24\n",
       "1      FMR1   1.50   2.05\n",
       "2    ZNF367   2.15   1.31\n",
       "3      PNOC   1.47   1.84\n",
       "4     HOXA7   1.63   1.65\n",
       "5     VPS41   1.54   1.70\n",
       "6     SEH1L   1.44   1.77\n",
       "7     ALOX5   1.71   1.47\n",
       "8     ITSN2   1.41   1.75\n",
       "9     SOCS2   1.33   1.75\n",
       "10      JUP   1.81   1.14\n",
       "11     ATF2   1.10   1.79\n",
       "12  ALDH6A1   0.82   2.06\n",
       "13  POU2AF1   1.91   0.74\n",
       "14   DYRK1A   1.61   1.03"
      ]
     },
     "execution_count": 3,
     "metadata": {},
     "output_type": "execute_result"
    }
   ],
   "source": [
    "grid = pd.read_table('../input_data/vip_pairgrid_v2.txt')\n",
    "grid"
   ]
  },
  {
   "cell_type": "code",
   "execution_count": 7,
   "metadata": {
    "collapsed": false
   },
   "outputs": [
    {
     "data": {
      "image/png": "[encoded data removed]",
      "text/plain": [
       "<matplotlib.figure.Figure at 0x10f8c3890>"
      ]
     },
     "metadata": {},
     "output_type": "display_data"
    }
   ],
   "source": [
    "sns.set(style=\"whitegrid\")\n",
    "g = sns.PairGrid(grid, x_vars=grid.columns[1:3], y_vars=[\"Gene\"], size=10, aspect=.25)\n",
    "g.map(sns.stripplot, size=15, orient=\"h\", palette=\"Reds_r\", edgecolor=\"gray\")\n",
    "\n",
    "for ax in g.axes.flat:\n",
    "    ax.xaxis.grid(False)\n",
    "    ax.yaxis.grid(True)\n",
    "\n",
    "plt.tight_layout()\n",
    "#to save figure in PDF: plt.savefig(\"Fig7E1.pdf\", dpi=300)\n",
    "plt.show()"
   ]
  }
 ],
 "metadata": {
  "kernelspec": {
   "display_name": "Python 2",
   "language": "python",
   "name": "python2"
  },
  "language_info": {
   "codemirror_mode": {
    "name": "ipython",
    "version": 2
   },
   "file_extension": ".py",
   "mimetype": "text/x-python",
   "name": "python",
   "nbconvert_exporter": "python",
   "pygments_lexer": "ipython2",
   "version": "2.7.13"
  }
 },
 "nbformat": 4,
 "nbformat_minor": 2
}
